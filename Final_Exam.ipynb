{
  "nbformat": 4,
  "nbformat_minor": 0,
  "metadata": {
    "colab": {
      "name": "Final Exam.ipynb",
      "provenance": [],
      "authorship_tag": "ABX9TyO/yOcy45KOpvHm4FzV04ei",
      "include_colab_link": true
    },
    "kernelspec": {
      "name": "python3",
      "display_name": "Python 3"
    },
    "language_info": {
      "name": "python"
    }
  },
  "cells": [
    {
      "cell_type": "markdown",
      "metadata": {
        "id": "view-in-github",
        "colab_type": "text"
      },
      "source": [
        "<a href=\"https://colab.research.google.com/github/JeanSosa/CPEN-21A-CPE-1-1/blob/main/Final_Exam.ipynb\" target=\"_parent\"><img src=\"https://colab.research.google.com/assets/colab-badge.svg\" alt=\"Open In Colab\"/></a>"
      ]
    },
    {
      "cell_type": "markdown",
      "source": [
        "##Final Exam"
      ],
      "metadata": {
        "id": "bAjFlapMAaUY"
      }
    },
    {
      "cell_type": "markdown",
      "source": [
        "Example Statement #1"
      ],
      "metadata": {
        "id": "oF2dy1yWG3Jv"
      }
    },
    {
      "cell_type": "code",
      "execution_count": 60,
      "metadata": {
        "colab": {
          "base_uri": "https://localhost:8080/"
        },
        "id": "rPfckpkY_4Fn",
        "outputId": "8a718983-d9a9-475e-fb28-fd9095918dca"
      },
      "outputs": [
        {
          "output_type": "stream",
          "name": "stdout",
          "text": [
            "The sum of 10 numbers less than 5 is -10\n"
          ]
        }
      ],
      "source": [
        "num = 5\n",
        "sum = [-5 + -4 + -3 + -2 + -1 + 0 + 1 + 2 + 3 + 4]\n",
        "for x in (sum):\n",
        "  sum = x - num\n",
        "print(\"The sum of 10 numbers less than 5 is\", sum)"
      ]
    },
    {
      "cell_type": "markdown",
      "source": [
        "Example Statement #2"
      ],
      "metadata": {
        "id": "tJhDBc6SQtxf"
      }
    },
    {
      "cell_type": "code",
      "source": [
        "num = []\n",
        "\n",
        "while len(num) is not 5:\n",
        "  user = int(input(\"Input number: \"))\n",
        "  num.append(user)\n",
        "\n",
        "print(num)\n",
        "sum = num[0] + num[-1]\n",
        "print(sum)"
      ],
      "metadata": {
        "colab": {
          "base_uri": "https://localhost:8080/"
        },
        "id": "PX5Ve1Hhigz-",
        "outputId": "0b8f38a6-e0a9-44ad-98ee-0912a7133620"
      },
      "execution_count": 57,
      "outputs": [
        {
          "output_type": "stream",
          "name": "stdout",
          "text": [
            "Input number: 0\n",
            "Input number: 1\n",
            "Input number: 2\n",
            "Input number: 3\n",
            "Input number: 4\n",
            "[0, 1, 2, 3, 4]\n",
            "4\n"
          ]
        }
      ]
    },
    {
      "cell_type": "markdown",
      "source": [
        "Example Statement #3"
      ],
      "metadata": {
        "id": "F9rxCBeMKhxW"
      }
    },
    {
      "cell_type": "code",
      "source": [
        "grade = float (input(\"Enter your grade: \"))\n",
        "\n",
        "if grade >= 90:\n",
        "  print(\"A\")\n",
        "elif grade >= 80:\n",
        "  print(\"B\")\n",
        "elif grade >= 70:\n",
        "  print(\"C\")\n",
        "elif grade >= 60:\n",
        "  print(\"D\")\n",
        "else:\n",
        "  print(\"E\")"
      ],
      "metadata": {
        "colab": {
          "base_uri": "https://localhost:8080/"
        },
        "id": "JYkxWaVRKham",
        "outputId": "be7c87f9-63b5-4f53-dc6c-b97d244e4b6f"
      },
      "execution_count": 33,
      "outputs": [
        {
          "output_type": "stream",
          "name": "stdout",
          "text": [
            "Enter your grade: 60\n",
            "D\n"
          ]
        }
      ]
    }
  ]
}