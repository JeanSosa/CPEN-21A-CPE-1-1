{
  "nbformat": 4,
  "nbformat_minor": 0,
  "metadata": {
    "colab": {
      "name": "Final Exam.ipynb",
      "provenance": [],
      "authorship_tag": "ABX9TyOqz4cB7hLLTWDjQzA94jWJ",
      "include_colab_link": true
    },
    "kernelspec": {
      "name": "python3",
      "display_name": "Python 3"
    },
    "language_info": {
      "name": "python"
    }
  },
  "cells": [
    {
      "cell_type": "markdown",
      "metadata": {
        "id": "view-in-github",
        "colab_type": "text"
      },
      "source": [
        "<a href=\"https://colab.research.google.com/github/JeanSosa/CPEN-21A-CPE-1-1/blob/main/Final_Exam.ipynb\" target=\"_parent\"><img src=\"https://colab.research.google.com/assets/colab-badge.svg\" alt=\"Open In Colab\"/></a>"
      ]
    },
    {
      "cell_type": "markdown",
      "source": [
        "##Final Exam"
      ],
      "metadata": {
        "id": "bAjFlapMAaUY"
      }
    },
    {
      "cell_type": "markdown",
      "source": [
        "Example Statement #1"
      ],
      "metadata": {
        "id": "oF2dy1yWG3Jv"
      }
    },
    {
      "cell_type": "code",
      "execution_count": null,
      "metadata": {
        "colab": {
          "base_uri": "https://localhost:8080/"
        },
        "id": "rPfckpkY_4Fn",
        "outputId": "721bc297-7f6f-4578-916f-87958c4e9c28"
      },
      "outputs": [
        {
          "output_type": "stream",
          "name": "stdout",
          "text": [
            "The sum of 10 numbers that are less than 5 is -5\n"
          ]
        }
      ],
      "source": [
        "sum = [-5 + -4 + -3 + -2 + -1 + 0 + 1 + 2 + 3 + 4]\n",
        "for x in (sum):\n",
        "  print(\"The sum of 10 numbers that are less than 5 is\", x)"
      ]
    },
    {
      "cell_type": "markdown",
      "source": [
        "Example Statement #2"
      ],
      "metadata": {
        "id": "tJhDBc6SQtxf"
      }
    },
    {
      "cell_type": "code",
      "source": [
        "num = []\n",
        "\n",
        "while len(num) is not 5:\n",
        "  x = int(input(\"Input number: \"))\n",
        "  num.append(x)\n",
        "\n",
        "print(num)\n",
        "sum = num[0] + num[-1]\n",
        "print(sum)"
      ],
      "metadata": {
        "colab": {
          "base_uri": "https://localhost:8080/"
        },
        "id": "PX5Ve1Hhigz-",
        "outputId": "0b8f38a6-e0a9-44ad-98ee-0912a7133620"
      },
      "execution_count": null,
      "outputs": [
        {
          "output_type": "stream",
          "name": "stdout",
          "text": [
            "Input number: 0\n",
            "Input number: 1\n",
            "Input number: 2\n",
            "Input number: 3\n",
            "Input number: 4\n",
            "[0, 1, 2, 3, 4]\n",
            "4\n"
          ]
        }
      ]
    },
    {
      "cell_type": "markdown",
      "source": [
        "Example Statement #3"
      ],
      "metadata": {
        "id": "F9rxCBeMKhxW"
      }
    },
    {
      "cell_type": "code",
      "source": [
        "grade = float (input(\"Enter your grade: \"))\n",
        "\n",
        "if grade >= 90:\n",
        "  print(\"A\")\n",
        "else: \n",
        "  if grade >= 80:\n",
        "    print(\"B\")\n",
        "  else:\n",
        "    if grade >= 70:\n",
        "      print(\"C\")\n",
        "    else:\n",
        "      if grade >= 60:\n",
        "        print(\"D\")\n",
        "      else:\n",
        "        print(\"F\")"
      ],
      "metadata": {
        "colab": {
          "base_uri": "https://localhost:8080/"
        },
        "id": "JYkxWaVRKham",
        "outputId": "6445f2b3-cfa7-4165-871f-442ce6624644"
      },
      "execution_count": null,
      "outputs": [
        {
          "output_type": "stream",
          "name": "stdout",
          "text": [
            "Enter your grade: 90\n",
            "A\n"
          ]
        }
      ]
    }
  ]
}