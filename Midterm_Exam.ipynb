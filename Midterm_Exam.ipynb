{
  "nbformat": 4,
  "nbformat_minor": 0,
  "metadata": {
    "colab": {
      "name": "Midterm Exam.ipynb",
      "provenance": [],
      "authorship_tag": "ABX9TyPUTRmWYsufhGcVIywk0KKx",
      "include_colab_link": true
    },
    "kernelspec": {
      "name": "python3",
      "display_name": "Python 3"
    },
    "language_info": {
      "name": "python"
    }
  },
  "cells": [
    {
      "cell_type": "markdown",
      "metadata": {
        "id": "view-in-github",
        "colab_type": "text"
      },
      "source": [
        "<a href=\"https://colab.research.google.com/github/JeanSosa/CPEN-21A-CPE-1-1/blob/main/Midterm_Exam.ipynb\" target=\"_parent\"><img src=\"https://colab.research.google.com/assets/colab-badge.svg\" alt=\"Open In Colab\"/></a>"
      ]
    },
    {
      "cell_type": "markdown",
      "metadata": {
        "id": "uiI1BPhpsa-x"
      },
      "source": [
        "##PROBLEM STATEMENT 1"
      ]
    },
    {
      "cell_type": "code",
      "metadata": {
        "colab": {
          "base_uri": "https://localhost:8080/"
        },
        "id": "QktTAD1TkZCG",
        "outputId": "17468e5a-6811-406a-834b-e95e6737bbd5"
      },
      "source": [
        "x=\"Jean Exequiel\"\n",
        "y=\" Dinglas\"\n",
        "z=\" Sosa\"\n",
        "Name = x + y + z\n",
        "print(Name)"
      ],
      "execution_count": 26,
      "outputs": [
        {
          "output_type": "stream",
          "name": "stdout",
          "text": [
            "Jean Exequiel Dinglas Sosa\n"
          ]
        }
      ]
    },
    {
      "cell_type": "code",
      "metadata": {
        "colab": {
          "base_uri": "https://localhost:8080/"
        },
        "id": "A7tiU1oflNmf",
        "outputId": "98ab62e0-797b-4136-dfec-f40fe3477a1d"
      },
      "source": [
        "myvar = 202102079\n",
        "print(myvar)"
      ],
      "execution_count": 9,
      "outputs": [
        {
          "output_type": "stream",
          "name": "stdout",
          "text": [
            "202102079\n"
          ]
        }
      ]
    },
    {
      "cell_type": "code",
      "metadata": {
        "colab": {
          "base_uri": "https://localhost:8080/"
        },
        "id": "hbdqLYLpmpqV",
        "outputId": "721a40bc-47bf-4bde-ec41-adf09cf5f344"
      },
      "source": [
        "age = 19\n",
        "print(age)"
      ],
      "execution_count": 10,
      "outputs": [
        {
          "output_type": "stream",
          "name": "stdout",
          "text": [
            "19\n"
          ]
        }
      ]
    },
    {
      "cell_type": "code",
      "metadata": {
        "colab": {
          "base_uri": "https://localhost:8080/"
        },
        "id": "J673pYLhoK8R",
        "outputId": "55d417ba-85d0-4697-86e3-d3bb57b34ff0"
      },
      "source": [
        "Month = \"October \"\n",
        "Day = \"16 \"\n",
        "Year = \"2002\"\n",
        "Birthday = Month + Day + Year\n",
        "print(Birthday)"
      ],
      "execution_count": 19,
      "outputs": [
        {
          "output_type": "stream",
          "name": "stdout",
          "text": [
            "October 16 2002\n"
          ]
        }
      ]
    },
    {
      "cell_type": "code",
      "metadata": {
        "colab": {
          "base_uri": "https://localhost:8080/"
        },
        "id": "XCTiI3jjofsv",
        "outputId": "fc8d7423-c546-42fc-e876-8467dced5b2e"
      },
      "source": [
        "St = \"#069 Governor's Drive, \"\n",
        "Brgy = \"Poblacion 1-A, \"\n",
        "Municipal = \"Ternate, \"\n",
        "Province = \"Cavite\"\n",
        "Address = St + Brgy + Municipal + Province\n",
        "print(Address)"
      ],
      "execution_count": 23,
      "outputs": [
        {
          "output_type": "stream",
          "name": "stdout",
          "text": [
            "#069 Governor's Drive, Poblacion 1-A, Ternate, Cavite\n"
          ]
        }
      ]
    },
    {
      "cell_type": "code",
      "metadata": {
        "colab": {
          "base_uri": "https://localhost:8080/"
        },
        "id": "6SDKMNTCp0Yw",
        "outputId": "4f795cdd-9c67-45b2-dd9e-90fb0b2a8bf3"
      },
      "source": [
        "x = course = \"BSCpE\"\n",
        "print(x)"
      ],
      "execution_count": 25,
      "outputs": [
        {
          "output_type": "stream",
          "name": "stdout",
          "text": [
            "BSCpE\n"
          ]
        }
      ]
    },
    {
      "cell_type": "code",
      "metadata": {
        "colab": {
          "base_uri": "https://localhost:8080/"
        },
        "id": "cIEWVOQMq6jx",
        "outputId": "dd428a8f-049f-4735-cbc5-c2e7dd09751d"
      },
      "source": [
        "x = GWA = 93\n",
        "print(x)"
      ],
      "execution_count": 29,
      "outputs": [
        {
          "output_type": "stream",
          "name": "stdout",
          "text": [
            "93\n"
          ]
        }
      ]
    },
    {
      "cell_type": "markdown",
      "metadata": {
        "id": "q5eGHgvUsifw"
      },
      "source": [
        "##PROBLEM STATEMENT 2"
      ]
    },
    {
      "cell_type": "code",
      "metadata": {
        "colab": {
          "base_uri": "https://localhost:8080/"
        },
        "id": "GFB0pfCxrFiW",
        "outputId": "890787b4-e756-4707-a166-a4783eb3997d"
      },
      "source": [
        "n = 4\n",
        "answ = \"Y\"\n",
        "print(2<n and n<6)\n",
        "print(2<n or n==6)\n",
        "print(not(2<n or n==6))\n",
        "print(not(n<6))\n",
        "print(answ==\"Y\" or answ==\"y\")\n",
        "print(answ==\"Y\" and answ==\"y\")\n",
        "print(not(answ==\"y\"))\n",
        "print((2<n) and (n==5+1) or (answ==\"No\"))\n",
        "print(((n==2) and (n==7)) or (answ==\"Y\"))\n",
        "print((n==2) and ((n==7) or (answ== \"Y\")))"
      ],
      "execution_count": 64,
      "outputs": [
        {
          "output_type": "stream",
          "name": "stdout",
          "text": [
            "True\n",
            "True\n",
            "False\n",
            "False\n",
            "True\n",
            "False\n",
            "True\n",
            "False\n",
            "True\n",
            "False\n"
          ]
        }
      ]
    },
    {
      "cell_type": "markdown",
      "metadata": {
        "id": "1skVUxDAslqC"
      },
      "source": [
        "##PROBLEM STATMENT 3"
      ]
    },
    {
      "cell_type": "code",
      "metadata": {
        "colab": {
          "base_uri": "https://localhost:8080/"
        },
        "id": "O6MFrOTwsoK6",
        "outputId": "feb8a892-2091-49c4-95fb-5aff3107fe50"
      },
      "source": [
        "x = 2\n",
        "y = -3\n",
        "w = 7\n",
        "z = -10\n",
        "print(x/y)"
      ],
      "execution_count": 32,
      "outputs": [
        {
          "output_type": "stream",
          "name": "stdout",
          "text": [
            "-0.6666666666666666\n"
          ]
        }
      ]
    },
    {
      "cell_type": "code",
      "metadata": {
        "colab": {
          "base_uri": "https://localhost:8080/"
        },
        "id": "diBQK-nrtHlC",
        "outputId": "c95940eb-5218-4305-fde8-30700020b8df"
      },
      "source": [
        "print(w/y/x)"
      ],
      "execution_count": 33,
      "outputs": [
        {
          "output_type": "stream",
          "name": "stdout",
          "text": [
            "-1.1666666666666667\n"
          ]
        }
      ]
    },
    {
      "cell_type": "code",
      "metadata": {
        "colab": {
          "base_uri": "https://localhost:8080/"
        },
        "id": "IseTUzZ7tMcI",
        "outputId": "7ef0aa0c-d37c-4071-d08b-d5ede09b1fc7"
      },
      "source": [
        "print(z/y%x)"
      ],
      "execution_count": 34,
      "outputs": [
        {
          "output_type": "stream",
          "name": "stdout",
          "text": [
            "1.3333333333333335\n"
          ]
        }
      ]
    },
    {
      "cell_type": "code",
      "metadata": {
        "colab": {
          "base_uri": "https://localhost:8080/"
        },
        "id": "WKzHfbt3tReX",
        "outputId": "33f83b29-8824-42b8-dd47-9882bd217d24"
      },
      "source": [
        "print(x%-y*w)"
      ],
      "execution_count": 35,
      "outputs": [
        {
          "output_type": "stream",
          "name": "stdout",
          "text": [
            "14\n"
          ]
        }
      ]
    },
    {
      "cell_type": "code",
      "metadata": {
        "colab": {
          "base_uri": "https://localhost:8080/"
        },
        "id": "wGYRhHWQtfzS",
        "outputId": "883608fd-31fb-4733-b321-1aabd7b9888b"
      },
      "source": [
        "print(x%y)"
      ],
      "execution_count": 36,
      "outputs": [
        {
          "output_type": "stream",
          "name": "stdout",
          "text": [
            "-1\n"
          ]
        }
      ]
    },
    {
      "cell_type": "code",
      "metadata": {
        "colab": {
          "base_uri": "https://localhost:8080/"
        },
        "id": "T-dlMvr-tjso",
        "outputId": "0d50774c-062e-4ef0-b71f-059817b50fc0"
      },
      "source": [
        "print(z%w-y/x*5+5)"
      ],
      "execution_count": 37,
      "outputs": [
        {
          "output_type": "stream",
          "name": "stdout",
          "text": [
            "16.5\n"
          ]
        }
      ]
    },
    {
      "cell_type": "code",
      "metadata": {
        "colab": {
          "base_uri": "https://localhost:8080/"
        },
        "id": "gKyvqn-QtpeA",
        "outputId": "8b605893-5530-4b62-cac8-bae9cc760630"
      },
      "source": [
        "print(9-x%(2+y))"
      ],
      "execution_count": 38,
      "outputs": [
        {
          "output_type": "stream",
          "name": "stdout",
          "text": [
            "9\n"
          ]
        }
      ]
    },
    {
      "cell_type": "code",
      "metadata": {
        "colab": {
          "base_uri": "https://localhost:8080/"
        },
        "id": "ikEcxO_httmx",
        "outputId": "ca46b05e-9977-4c8d-f059-62b765103d37"
      },
      "source": [
        "print(z//w)"
      ],
      "execution_count": 39,
      "outputs": [
        {
          "output_type": "stream",
          "name": "stdout",
          "text": [
            "-2\n"
          ]
        }
      ]
    },
    {
      "cell_type": "code",
      "metadata": {
        "colab": {
          "base_uri": "https://localhost:8080/"
        },
        "id": "egoN_ysXtxXI",
        "outputId": "cc6a4bfd-fbff-4a3b-ff96-0d4733d1abe7"
      },
      "source": [
        "print((2+y)**2)"
      ],
      "execution_count": 40,
      "outputs": [
        {
          "output_type": "stream",
          "name": "stdout",
          "text": [
            "1\n"
          ]
        }
      ]
    },
    {
      "cell_type": "code",
      "metadata": {
        "colab": {
          "base_uri": "https://localhost:8080/"
        },
        "id": "6VoGk1T3t14o",
        "outputId": "10d2105f-893f-4fa8-a258-2ed70335bf14"
      },
      "source": [
        "print(w/x*2)"
      ],
      "execution_count": 41,
      "outputs": [
        {
          "output_type": "stream",
          "name": "stdout",
          "text": [
            "7.0\n"
          ]
        }
      ]
    }
  ]
}